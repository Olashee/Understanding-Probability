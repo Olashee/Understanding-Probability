{
  "nbformat": 4,
  "nbformat_minor": 0,
  "metadata": {
    "colab": {
      "provenance": []
    },
    "kernelspec": {
      "name": "python3",
      "display_name": "Python 3"
    },
    "language_info": {
      "name": "python"
    }
  },
  "cells": [
    {
      "cell_type": "markdown",
      "source": [
        "# **Basics of Probability**"
      ],
      "metadata": {
        "id": "1eViKSc3o73N"
      }
    },
    {
      "cell_type": "markdown",
      "source": [
        "1. Write a Python program to simulate the following scenarios:  \n",
        "  a. Tossing a coin 10,000 times and calculating the experimental probability of heads and tails.  \n",
        "  b. Rolling two dice and computing the probability of getting a sum of 7.  "
      ],
      "metadata": {
        "id": "cL6d7285wPNn"
      }
    },
    {
      "cell_type": "code",
      "execution_count": null,
      "metadata": {
        "colab": {
          "base_uri": "https://localhost:8080/"
        },
        "id": "IUOBdiU4tn7x",
        "outputId": "19ca4e32-b5ae-43f6-c71f-4be8366c4874"
      },
      "outputs": [
        {
          "output_type": "stream",
          "name": "stdout",
          "text": [
            "Total Tosses: 10000\n",
            "Heads: 5054 (0.5054)\n",
            "Tails: 4946 (0.4946)\n"
          ]
        }
      ],
      "source": [
        "#1a.\n",
        "import random\n",
        "\n",
        "def toss(trials):\n",
        "  heads=0;\n",
        "  tails=0;\n",
        "  for _ in range(trials):\n",
        "    toss=random.choice(['H','T'])\n",
        "    if toss == 'H':\n",
        "      heads += 1\n",
        "    else:\n",
        "      tails += 1\n",
        "  print(f\"Total Tosses: {trials}\")\n",
        "  print(f\"Heads: {heads} ({heads/trials:.4f})\")\n",
        "  print(f\"Tails: {tails} ({tails/trials:.4f})\")\n",
        "\n",
        "\n",
        "if __name__ == \"__main__\":\n",
        "  trials=10000\n",
        "  toss(trials)\n",
        "\n"
      ]
    },
    {
      "cell_type": "code",
      "source": [
        "#1b.\n",
        "\n",
        "def roll_dice(trials):\n",
        "  sum=0\n",
        "  for _ in range (trials):\n",
        "    dice1=random.randint(1,6)\n",
        "    dice2=random.randint(1,6)\n",
        "    if dice1+dice2==7:\n",
        "      sum+=1\n",
        "  prop = sum/trials\n",
        "  print(f\"Total Tosses: {trials}\")\n",
        "  print(f\"Sum of 7: {sum} ({prop:.4f})\")\n",
        "\n",
        "if __name__ == \"__main__\":\n",
        "  trials=10000\n",
        "  roll_dice(trials)\n"
      ],
      "metadata": {
        "colab": {
          "base_uri": "https://localhost:8080/"
        },
        "id": "RwanEHBRwc2i",
        "outputId": "2a669817-24f5-47ac-e8a8-a7a1abcb41e1"
      },
      "execution_count": null,
      "outputs": [
        {
          "output_type": "stream",
          "name": "stdout",
          "text": [
            "Total Tosses: 10000\n",
            "Sum of 7: 1685 (0.1685)\n"
          ]
        }
      ]
    },
    {
      "cell_type": "markdown",
      "source": [
        "2. Write a function to estimate the probability of getting at least one \"6\" in 10 rolls of a fair die."
      ],
      "metadata": {
        "id": "wD-AHL2dxe52"
      }
    },
    {
      "cell_type": "code",
      "source": [
        "def roll_dice(trials):\n",
        "  sum=0\n",
        "  for _ in range (trials):\n",
        "    if 6 in [random.randint(1,6)for _ in range(10)]:\n",
        "      sum+=1\n",
        "  prop = sum/trials\n",
        "  print(f\"Total roll: {trials}\")\n",
        "  print(f\"at least 6: {sum} ({prop:.4f})\")\n",
        "\n",
        "  theoretical_prob = 1 - (5/6) ** 10\n",
        "  print(f\"Theoretical probability: {theoretical_prob:.4f}\")\n",
        "\n",
        "\n",
        "if __name__ == \"__main__\":\n",
        "  trials=10000\n",
        "  roll_dice(trials)"
      ],
      "metadata": {
        "id": "XcPP82WWxahc",
        "colab": {
          "base_uri": "https://localhost:8080/"
        },
        "outputId": "d9af1f36-4283-4c93-e533-fb80d81a6463"
      },
      "execution_count": null,
      "outputs": [
        {
          "output_type": "stream",
          "name": "stdout",
          "text": [
            "Total roll: 10000\n",
            "at least 6: 8321 (0.8321)\n",
            "Theoretical probability: 0.8385\n"
          ]
        }
      ]
    },
    {
      "cell_type": "markdown",
      "source": [
        "# **Conditional Probability and Bayes' Theorem**\n"
      ],
      "metadata": {
        "id": "Pf2RGQ8oo7RQ"
      }
    },
    {
      "cell_type": "markdown",
      "source": [
        "3. A bag contains 5 red, 7 green, and 8 blue balls. A ball is drawn randomly, its color noted, and it is put back into the bag. If this process is repeated 1000 times, write a Python program to estimate:  \n",
        "  a. The probability of drawing a red ball given that the previous ball was blue.  \n",
        "  b. Verify Bayes' theorem with the simulation results.  \n"
      ],
      "metadata": {
        "id": "e72dG0h1pPIy"
      }
    },
    {
      "cell_type": "code",
      "source": [
        "import random\n",
        "from collections import Counter\n",
        "\n",
        "def draw(trials):\n",
        "  bag = ['R']*5+['G']*7+['B']*8\n",
        "  seq=[random.choice(bag)for _ in range(trials)]\n",
        "\n",
        "  cnt_prev_blue=0\n",
        "  cnt_red_prev_blue=0\n",
        "\n",
        "  for i in range(1,trials):\n",
        "    if seq[i-1]=='B':\n",
        "      cnt_prev_blue+=1\n",
        "      if seq[i]=='R':\n",
        "        cnt_red_prev_blue+=1\n",
        "\n",
        "  conditional_prob = cnt_red_prev_blue/cnt_prev_blue if cnt_prev_blue else 0 # Calculate and assign to conditional_prob\n",
        "  print(f\"Probability of drawing a red ball given that the previous ball was blue: {conditional_prob}\")\n",
        "\n",
        "  counts = Counter(seq)\n",
        "  P_B = counts['B'] / trials\n",
        "  P_R = counts['R'] / trials\n",
        "\n",
        "# Count how many times a Red follows, and Blue precedes it\n",
        "  count_red = 0\n",
        "  count_blue_before_red = 0\n",
        "  for i in range(1, trials):\n",
        "      if seq[i] == 'R':\n",
        "          count_red += 1\n",
        "          if seq[i - 1] == 'B':\n",
        "              count_blue_before_red += 1\n",
        "\n",
        "  P_B_given_R = count_blue_before_red / count_red if count_red else 0\n",
        "  bayes_result = (P_B_given_R * P_R) / P_B if P_B else 0\n",
        "\n",
        "  print(f\"Using Bayes: P(R|B) ≈ {bayes_result:.4f}\")\n",
        "  print(f\"Difference from simulation: {abs(conditional_prob - bayes_result):.4f}\")\n",
        "\n",
        "\n",
        "if __name__ == '__main__':\n",
        "  trials=1000\n",
        "  draw(trials)"
      ],
      "metadata": {
        "id": "nb44CG8qp8dx",
        "colab": {
          "base_uri": "https://localhost:8080/"
        },
        "outputId": "9f6e1876-8671-48e3-acee-d013b65fa372"
      },
      "execution_count": null,
      "outputs": [
        {
          "output_type": "stream",
          "name": "stdout",
          "text": [
            "Probability of drawing a red ball given that the previous ball was blue: 0.23357664233576642\n",
            "Using Bayes: P(R|B) ≈ 0.2336\n",
            "Difference from simulation: 0.0000\n"
          ]
        }
      ]
    },
    {
      "cell_type": "markdown",
      "source": [
        "# **Random Variables and Discrete Probability**"
      ],
      "metadata": {
        "id": "qZlSiNRbIInW"
      }
    },
    {
      "cell_type": "markdown",
      "source": [
        "4. Generate a sample of size 1000 from a discrete random variable with the following distribution:  \n",
        "  - P(X=1) = 0.25  \n",
        "  - P(X=2) = 0.35  \n",
        "  - P(X=3) = 0.4  "
      ],
      "metadata": {
        "id": "L2N-jwuaIuwZ"
      }
    },
    {
      "cell_type": "code",
      "source": [
        "import numpy as np\n",
        "from scipy import stats\n",
        "\n",
        "def centralTendency(size):\n",
        "  value=[1,2,3]\n",
        "  prob=[0.25,0.35,0.40]\n",
        "\n",
        "  sample=np.random.choice(value,size,p=prob)\n",
        "  mean1=np.mean(sample)\n",
        "  median1=np.median(sample)\n",
        "  mode1 = stats.mode(sample, keepdims=True)[0][0]\n",
        "\n",
        "  print(f\"mean :{mean1:.4f}\")\n",
        "  print(f\"median :{median1:.4f}\")\n",
        "  print(f\"mode :{mode1:.4f}\")\n",
        "\n",
        "  #print(f\"Mode: {stats.mode(sample)[0][0]}\")\n",
        "\n",
        "\n",
        "if __name__ == '__main__':\n",
        "  size=1000\n",
        "  centralTendency(size)"
      ],
      "metadata": {
        "colab": {
          "base_uri": "https://localhost:8080/"
        },
        "id": "wANTWUiTHFDn",
        "outputId": "7e290d9d-4ac8-4a3a-9d80-787298eb7017"
      },
      "execution_count": null,
      "outputs": [
        {
          "output_type": "stream",
          "name": "stdout",
          "text": [
            "mean :2.1930\n",
            "median :2.0000\n",
            "mode :3.0000\n"
          ]
        }
      ]
    },
    {
      "cell_type": "markdown",
      "source": [
        "# **Continuous Random Variables**"
      ],
      "metadata": {
        "id": "eAr3joKfMtLE"
      }
    },
    {
      "cell_type": "markdown",
      "source": [
        "5. Simulate 2000 random samples from an exponential distribution with a mean of 5. Visualize the distribution using:  \n",
        "  a. A histogram.  \n",
        "  b. A probability density function (PDF) overlay.  "
      ],
      "metadata": {
        "id": "JQYn3_3tMxuh"
      }
    },
    {
      "cell_type": "code",
      "source": [
        "import numpy as np\n",
        "import matplotlib.pyplot as plt\n",
        "from scipy.stats import expon\n",
        "\n",
        "def simulate_exponential(size):\n",
        "  mean=5\n",
        "\n",
        "  scale=mean\n",
        "  data=np.random.exponential(scale,size)\n",
        "\n",
        "  plt.hist(data,bins=30,density=True,alpha=0.6,color='b',label='Histogram')\n",
        "\n",
        "  #Overlaying PDF\n",
        "\n",
        "  X=np.linspace(0,np.max(data),1000)\n",
        "  pdf=expon.pdf(X,scale=scale)\n",
        "  plt.plot(X,pdf,color='r',linewidth=2,label='PDF')\n",
        "  plt.title('Exponential Distribution (mean = 5)')\n",
        "  plt.xlabel('Value')\n",
        "  plt.ylabel('Density')\n",
        "  plt.legend()\n",
        "  plt.grid(True)\n",
        "  plt.show()\n",
        "\n",
        "\n",
        "if __name__ == '__main__':\n",
        "  size=2000\n",
        "  simulate_exponential(size)\n",
        "\n",
        "\n",
        "\n",
        "\n",
        ""
      ],
      "metadata": {
        "id": "-uKtrAzhMs-h",
        "colab": {
          "base_uri": "https://localhost:8080/",
          "height": 472
        },
        "outputId": "aafbd672-82a6-4a4d-e701-6de566c109cf"
      },
      "execution_count": 4,
      "outputs": [
        {
          "output_type": "display_data",
          "data": {
            "text/plain": [
              "<Figure size 640x480 with 1 Axes>"
            ],
            "image/png": "[encoded data removed]"
          },
          "metadata": {}
        }
      ]
    },
    {
      "cell_type": "markdown",
      "source": [
        "# **Central Limit Theorem**\n"
      ],
      "metadata": {
        "id": "b4t4x47TDnv5"
      }
    },
    {
      "cell_type": "markdown",
      "source": [
        "6. Simulate the Central Limit Theorem by following these steps  \n",
        "  a. Generate 10,000 random numbers from a uniform distribution.  \n",
        "  b. Draw 1000 samples of size n = 30.  \n",
        "  c. Calculate and visualize the distribution of sample means.  \n"
      ],
      "metadata": {
        "id": "zH-Rpj5VDtTM"
      }
    },
    {
      "cell_type": "code",
      "source": [
        "import numpy as np\n",
        "import matplotlib.pyplot as plt\n",
        "\n",
        "def simulate_clt():\n",
        "    population = np.random.uniform(low=0, high=1, size=10000)\n",
        "\n",
        "    sample_means_list = []\n",
        "    for _ in range(1000):\n",
        "        sample = np.random.choice(population, size=30, replace=True)\n",
        "        sample_means_list.append(np.mean(sample))\n",
        "\n",
        "    plt.hist(sample_means_list, bins=50, density=True, alpha=0.5, color='blue')\n",
        "    #plt.xlim(0.3, 0.7 )\n",
        "    #plt.ylim(0, 10)\n",
        "    plt.title(\"Distribution of Sample Means (CLT Simulation)\")\n",
        "    plt.xlabel(\"Sample Mean\")\n",
        "    plt.ylabel(\"Density\")\n",
        "    plt.grid(True)\n",
        "    plt.show()\n",
        "\n",
        "simulate_clt()"
      ],
      "metadata": {
        "id": "HqybdK9oMzJK",
        "colab": {
          "base_uri": "https://localhost:8080/",
          "height": 472
        },
        "outputId": "88014537-3c89-478e-c77c-c5ac5ab65d1b"
      },
      "execution_count": 13,
      "outputs": [
        {
          "output_type": "display_data",
          "data": {
            "text/plain": [
              "<Figure size 640x480 with 1 Axes>"
            ],
            "image/png": "[encoded data removed]"
          },
          "metadata": {}
        }
      ]
    }
  ]
}